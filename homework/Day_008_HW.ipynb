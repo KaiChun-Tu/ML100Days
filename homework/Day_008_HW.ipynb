{
 "cells": [
  {
   "cell_type": "markdown",
   "metadata": {},
   "source": [
    "# [作業目標]\n",
    "- 對資料做更多處理 : 顯示特定欄位的統計值與直方圖"
   ]
  },
  {
   "cell_type": "markdown",
   "metadata": {},
   "source": [
    "# [作業重點]\n",
    "- 試著顯示特定欄位的基礎統計數值 (In[4], Out[4], Hint : describe())\n",
    "- 試著顯示特定欄位的直方圖 (In[5], Out[5], Hint : .hist())"
   ]
  },
  {
   "cell_type": "code",
   "execution_count": 1,
   "metadata": {},
   "outputs": [],
   "source": [
    "# Import 需要的套件\n",
    "import os\n",
    "import numpy as np\n",
    "import pandas as pd\n",
    "\n",
    "# 設定 data_path\n",
    "dir_data = './data/'"
   ]
  },
  {
   "cell_type": "code",
   "execution_count": null,
   "metadata": {},
   "outputs": [],
   "source": []
  },
  {
   "cell_type": "code",
   "execution_count": 2,
   "metadata": {},
   "outputs": [],
   "source": [
    "f_app_train = os.path.join(dir_data, 'application_train.csv')\n",
    "app_train = pd.read_csv(f_app_train)"
   ]
  },
  {
   "cell_type": "code",
   "execution_count": 3,
   "metadata": {},
   "outputs": [],
   "source": [
    "import matplotlib.pyplot as plt\n",
    "%matplotlib inline"
   ]
  },
  {
   "cell_type": "markdown",
   "metadata": {},
   "source": [
    "## 練習時間"
   ]
  },
  {
   "cell_type": "markdown",
   "metadata": {},
   "source": [
    "觀察有興趣的欄位的資料分佈，並嘗試找出有趣的訊息\n",
    "#### Eg\n",
    "- 計算任意欄位的平均數及標準差\n",
    "- 畫出任意欄位的[直方圖](https://zh.wikipedia.org/zh-tw/%E7%9B%B4%E6%96%B9%E5%9B%BE)\n",
    "\n",
    "### Hints:\n",
    "- [Descriptive Statistics For pandas Dataframe](https://chrisalbon.com/python/data_wrangling/pandas_dataframe_descriptive_stats/)\n",
    "- [pandas 中的繪圖函數](https://amaozhao.gitbooks.io/pandas-notebook/content/pandas%E4%B8%AD%E7%9A%84%E7%BB%98%E5%9B%BE%E5%87%BD%E6%95%B0.html)\n"
   ]
  },
  {
   "cell_type": "code",
   "execution_count": 4,
   "metadata": {},
   "outputs": [
    {
     "name": "stdout",
     "output_type": "stream",
     "text": [
      "mean =  278180.51857657125\n",
      "cumsum =  0              100002\n",
      "1              200005\n",
      "2              300009\n",
      "3              400015\n",
      "4              500022\n",
      "             ...     \n",
      "307506    85541744434\n",
      "307507    85542200686\n",
      "307508    85542656939\n",
      "307509    85543113193\n",
      "307510    85543569448\n",
      "Name: SK_ID_CURR, Length: 307511, dtype: int64\n",
      "\n",
      "describe =  count    307511.000000\n",
      "mean     278180.518577\n",
      "std      102790.175348\n",
      "min      100002.000000\n",
      "25%      189145.500000\n",
      "50%      278202.000000\n",
      "75%      367142.500000\n",
      "max      456255.000000\n",
      "Name: SK_ID_CURR, dtype: float64\n",
      "\n",
      "count =  307511\n",
      "\n",
      "min =  100002\n",
      "\n",
      "max =  456255\n",
      "\n",
      "median =  278202.0\n",
      "\n",
      "var =  10565820148.159698\n",
      "\n",
      "std =  102790.17534842374\n",
      "\n",
      "skew =  -0.0012002350768207104\n",
      "\n",
      "kurt =  -1.1989877778996432\n",
      "                            SK_ID_CURR    TARGET  CNT_CHILDREN  \\\n",
      "SK_ID_CURR                    1.000000 -0.002108     -0.001129   \n",
      "TARGET                       -0.002108  1.000000      0.019187   \n",
      "CNT_CHILDREN                 -0.001129  0.019187      1.000000   \n",
      "AMT_INCOME_TOTAL             -0.001820 -0.003982      0.012882   \n",
      "AMT_CREDIT                   -0.000343 -0.030369      0.002145   \n",
      "...                                ...       ...           ...   \n",
      "AMT_REQ_CREDIT_BUREAU_DAY    -0.002193  0.002704     -0.000366   \n",
      "AMT_REQ_CREDIT_BUREAU_WEEK    0.002099  0.000788     -0.002436   \n",
      "AMT_REQ_CREDIT_BUREAU_MON     0.000485 -0.012462     -0.010808   \n",
      "AMT_REQ_CREDIT_BUREAU_QRT     0.001025 -0.002022     -0.007836   \n",
      "AMT_REQ_CREDIT_BUREAU_YEAR    0.004659  0.019930     -0.041550   \n",
      "\n",
      "                            AMT_INCOME_TOTAL  AMT_CREDIT  AMT_ANNUITY  \\\n",
      "SK_ID_CURR                         -0.001820   -0.000343    -0.000433   \n",
      "TARGET                             -0.003982   -0.030369    -0.012817   \n",
      "CNT_CHILDREN                        0.012882    0.002145     0.021374   \n",
      "AMT_INCOME_TOTAL                    1.000000    0.156870     0.191657   \n",
      "AMT_CREDIT                          0.156870    1.000000     0.770138   \n",
      "...                                      ...         ...          ...   \n",
      "AMT_REQ_CREDIT_BUREAU_DAY           0.002944    0.004238     0.002185   \n",
      "AMT_REQ_CREDIT_BUREAU_WEEK          0.002387   -0.001275     0.013881   \n",
      "AMT_REQ_CREDIT_BUREAU_MON           0.024700    0.054451     0.039148   \n",
      "AMT_REQ_CREDIT_BUREAU_QRT           0.004859    0.015925     0.010124   \n",
      "AMT_REQ_CREDIT_BUREAU_YEAR          0.011690   -0.048448    -0.011320   \n",
      "\n",
      "                            AMT_GOODS_PRICE  REGION_POPULATION_RELATIVE  \\\n",
      "SK_ID_CURR                        -0.000232                    0.000849   \n",
      "TARGET                            -0.039645                   -0.037227   \n",
      "CNT_CHILDREN                      -0.001827                   -0.025573   \n",
      "AMT_INCOME_TOTAL                   0.159610                    0.074796   \n",
      "AMT_CREDIT                         0.986968                    0.099738   \n",
      "...                                     ...                         ...   \n",
      "AMT_REQ_CREDIT_BUREAU_DAY          0.004677                    0.001399   \n",
      "AMT_REQ_CREDIT_BUREAU_WEEK        -0.001007                   -0.002149   \n",
      "AMT_REQ_CREDIT_BUREAU_MON          0.056422                    0.078607   \n",
      "AMT_REQ_CREDIT_BUREAU_QRT          0.016432                   -0.001279   \n",
      "AMT_REQ_CREDIT_BUREAU_YEAR        -0.050998                    0.001003   \n",
      "\n",
      "                            DAYS_BIRTH  DAYS_EMPLOYED  ...  FLAG_DOCUMENT_18  \\\n",
      "SK_ID_CURR                   -0.001500       0.001366  ...          0.000509   \n",
      "TARGET                        0.078239      -0.044932  ...         -0.007952   \n",
      "CNT_CHILDREN                  0.330938      -0.239818  ...          0.004031   \n",
      "AMT_INCOME_TOTAL              0.027261      -0.064223  ...          0.003130   \n",
      "AMT_CREDIT                   -0.055436      -0.066838  ...          0.034329   \n",
      "...                                ...            ...  ...               ...   \n",
      "AMT_REQ_CREDIT_BUREAU_DAY     0.002255       0.000472  ...          0.013281   \n",
      "AMT_REQ_CREDIT_BUREAU_WEEK   -0.001336       0.003072  ...         -0.004640   \n",
      "AMT_REQ_CREDIT_BUREAU_MON     0.001372      -0.034457  ...         -0.001565   \n",
      "AMT_REQ_CREDIT_BUREAU_QRT    -0.011799       0.015345  ...         -0.005125   \n",
      "AMT_REQ_CREDIT_BUREAU_YEAR   -0.071983       0.049988  ...         -0.047432   \n",
      "\n",
      "                            FLAG_DOCUMENT_19  FLAG_DOCUMENT_20  \\\n",
      "SK_ID_CURR                          0.000167          0.001073   \n",
      "TARGET                             -0.001358          0.000215   \n",
      "CNT_CHILDREN                        0.000864          0.000988   \n",
      "AMT_INCOME_TOTAL                    0.002408          0.000242   \n",
      "AMT_CREDIT                          0.021082          0.031023   \n",
      "...                                      ...               ...   \n",
      "AMT_REQ_CREDIT_BUREAU_DAY           0.001126         -0.000120   \n",
      "AMT_REQ_CREDIT_BUREAU_WEEK         -0.001275         -0.001770   \n",
      "AMT_REQ_CREDIT_BUREAU_MON          -0.002729          0.001285   \n",
      "AMT_REQ_CREDIT_BUREAU_QRT          -0.001575         -0.001010   \n",
      "AMT_REQ_CREDIT_BUREAU_YEAR         -0.007009         -0.012126   \n",
      "\n",
      "                            FLAG_DOCUMENT_21  AMT_REQ_CREDIT_BUREAU_HOUR  \\\n",
      "SK_ID_CURR                          0.000282                   -0.002672   \n",
      "TARGET                              0.003709                    0.000930   \n",
      "CNT_CHILDREN                       -0.002450                   -0.000410   \n",
      "AMT_INCOME_TOTAL                   -0.000589                    0.000709   \n",
      "AMT_CREDIT                         -0.016148                   -0.003906   \n",
      "...                                      ...                         ...   \n",
      "AMT_REQ_CREDIT_BUREAU_DAY          -0.001130                    0.230374   \n",
      "AMT_REQ_CREDIT_BUREAU_WEEK          0.000081                    0.004706   \n",
      "AMT_REQ_CREDIT_BUREAU_MON          -0.003612                   -0.000018   \n",
      "AMT_REQ_CREDIT_BUREAU_QRT          -0.002004                   -0.002716   \n",
      "AMT_REQ_CREDIT_BUREAU_YEAR         -0.005457                   -0.004597   \n",
      "\n",
      "                            AMT_REQ_CREDIT_BUREAU_DAY  \\\n",
      "SK_ID_CURR                                  -0.002193   \n",
      "TARGET                                       0.002704   \n",
      "CNT_CHILDREN                                -0.000366   \n",
      "AMT_INCOME_TOTAL                             0.002944   \n",
      "AMT_CREDIT                                   0.004238   \n",
      "...                                               ...   \n",
      "AMT_REQ_CREDIT_BUREAU_DAY                    1.000000   \n",
      "AMT_REQ_CREDIT_BUREAU_WEEK                   0.217412   \n",
      "AMT_REQ_CREDIT_BUREAU_MON                   -0.005258   \n",
      "AMT_REQ_CREDIT_BUREAU_QRT                   -0.004416   \n",
      "AMT_REQ_CREDIT_BUREAU_YEAR                  -0.003355   \n",
      "\n",
      "                            AMT_REQ_CREDIT_BUREAU_WEEK  \\\n",
      "SK_ID_CURR                                    0.002099   \n",
      "TARGET                                        0.000788   \n",
      "CNT_CHILDREN                                 -0.002436   \n",
      "AMT_INCOME_TOTAL                              0.002387   \n",
      "AMT_CREDIT                                   -0.001275   \n",
      "...                                                ...   \n",
      "AMT_REQ_CREDIT_BUREAU_DAY                     0.217412   \n",
      "AMT_REQ_CREDIT_BUREAU_WEEK                    1.000000   \n",
      "AMT_REQ_CREDIT_BUREAU_MON                    -0.014096   \n",
      "AMT_REQ_CREDIT_BUREAU_QRT                    -0.015115   \n",
      "AMT_REQ_CREDIT_BUREAU_YEAR                    0.018917   \n",
      "\n",
      "                            AMT_REQ_CREDIT_BUREAU_MON  \\\n",
      "SK_ID_CURR                                   0.000485   \n",
      "TARGET                                      -0.012462   \n",
      "CNT_CHILDREN                                -0.010808   \n",
      "AMT_INCOME_TOTAL                             0.024700   \n",
      "AMT_CREDIT                                   0.054451   \n",
      "...                                               ...   \n",
      "AMT_REQ_CREDIT_BUREAU_DAY                   -0.005258   \n",
      "AMT_REQ_CREDIT_BUREAU_WEEK                  -0.014096   \n",
      "AMT_REQ_CREDIT_BUREAU_MON                    1.000000   \n",
      "AMT_REQ_CREDIT_BUREAU_QRT                   -0.007789   \n",
      "AMT_REQ_CREDIT_BUREAU_YEAR                  -0.004975   \n",
      "\n",
      "                            AMT_REQ_CREDIT_BUREAU_QRT  \\\n",
      "SK_ID_CURR                                   0.001025   \n",
      "TARGET                                      -0.002022   \n",
      "CNT_CHILDREN                                -0.007836   \n",
      "AMT_INCOME_TOTAL                             0.004859   \n",
      "AMT_CREDIT                                   0.015925   \n",
      "...                                               ...   \n",
      "AMT_REQ_CREDIT_BUREAU_DAY                   -0.004416   \n",
      "AMT_REQ_CREDIT_BUREAU_WEEK                  -0.015115   \n",
      "AMT_REQ_CREDIT_BUREAU_MON                   -0.007789   \n",
      "AMT_REQ_CREDIT_BUREAU_QRT                    1.000000   \n",
      "AMT_REQ_CREDIT_BUREAU_YEAR                   0.076208   \n",
      "\n",
      "                            AMT_REQ_CREDIT_BUREAU_YEAR  \n",
      "SK_ID_CURR                                    0.004659  \n",
      "TARGET                                        0.019930  \n",
      "CNT_CHILDREN                                 -0.041550  \n",
      "AMT_INCOME_TOTAL                              0.011690  \n",
      "AMT_CREDIT                                   -0.048448  \n",
      "...                                                ...  \n",
      "AMT_REQ_CREDIT_BUREAU_DAY                    -0.003355  \n",
      "AMT_REQ_CREDIT_BUREAU_WEEK                    0.018917  \n",
      "AMT_REQ_CREDIT_BUREAU_MON                    -0.004975  \n",
      "AMT_REQ_CREDIT_BUREAU_QRT                     0.076208  \n",
      "AMT_REQ_CREDIT_BUREAU_YEAR                    1.000000  \n",
      "\n",
      "[106 rows x 106 columns]\n"
     ]
    }
   ],
   "source": [
    "print('mean = ',app_train['SK_ID_CURR'].mean())\n",
    "print('cumsum = ',app_train['SK_ID_CURR'].cumsum())\n",
    "print('\\ndescribe = ',app_train['SK_ID_CURR'].describe())\n",
    "print('\\ncount = ',app_train['SK_ID_CURR'].count())\n",
    "print('\\nmin = ',app_train['SK_ID_CURR'].min())\n",
    "print('\\nmax = ',app_train['SK_ID_CURR'].max())\n",
    "print('\\nmedian = ',app_train['SK_ID_CURR'].median())\n",
    "print('\\nvar = ',app_train['SK_ID_CURR'].var())\n",
    "print('\\nstd = ',app_train['SK_ID_CURR'].std())\n",
    "print('\\nskew = ',app_train['SK_ID_CURR'].skew())\n",
    "print('\\nkurt = ',app_train['SK_ID_CURR'].kurt())\n",
    "print(app_train.corr())"
   ]
  },
  {
   "cell_type": "code",
   "execution_count": 7,
   "metadata": {},
   "outputs": [
    {
     "data": {
      "text/plain": [
       "<matplotlib.axes._subplots.AxesSubplot at 0x229d5a11a48>"
      ]
     },
     "execution_count": 7,
     "metadata": {},
     "output_type": "execute_result"
    },
    {
     "data": {
      "image/png": "[encoded data removed]",
      "text/plain": [
       "<Figure size 432x288 with 1 Axes>"
      ]
     },
     "metadata": {
      "needs_background": "light"
     },
     "output_type": "display_data"
    }
   ],
   "source": [
    "app_train['SK_ID_CURR'].hist(bins = 50)"
   ]
  },
  {
   "cell_type": "code",
   "execution_count": null,
   "metadata": {},
   "outputs": [],
   "source": []
  }
 ],
 "metadata": {
  "kernelspec": {
   "display_name": "Python 3",
   "language": "python",
   "name": "python3"
  },
  "language_info": {
   "codemirror_mode": {
    "name": "ipython",
    "version": 3
   },
   "file_extension": ".py",
   "mimetype": "text/x-python",
   "name": "python",
   "nbconvert_exporter": "python",
   "pygments_lexer": "ipython3",
   "version": "3.7.7"
  }
 },
 "nbformat": 4,
 "nbformat_minor": 2
}
